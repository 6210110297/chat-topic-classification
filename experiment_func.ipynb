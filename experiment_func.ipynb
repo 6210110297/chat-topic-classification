{
 "cells": [
  {
   "cell_type": "markdown",
   "metadata": {},
   "source": [
    "### DATA COLLECTING"
   ]
  },
  {
   "cell_type": "code",
   "execution_count": 1,
   "metadata": {},
   "outputs": [],
   "source": [
    "import re\n",
    "import pandas as pd\n",
    "import json\n",
    "\n",
    "from pythainlp.tokenize import THAI2FIT_TOKENIZER\n",
    "\n",
    "# message converter\n",
    "from project_module.message_data_converter import MessageDataConverter\n"
   ]
  },
  {
   "cell_type": "code",
   "execution_count": 2,
   "metadata": {},
   "outputs": [],
   "source": [
    "json_file = open('./raw_data/wimon_message_1.json')\n",
    "json_obj = json.load(json_file)\n",
    "message_list = []\n",
    "\n",
    "for message in json_obj['messages']:\n",
    "    try:\n",
    "        message_content = message['content'].encode('latin_1').decode('utf-8')\n",
    "        message_list.append(message_content)\n",
    "        \n",
    "    except:\n",
    "        continue"
   ]
  },
  {
   "cell_type": "code",
   "execution_count": 3,
   "metadata": {},
   "outputs": [
    {
     "name": "stdout",
     "output_type": "stream",
     "text": [
      "['ขอบคุณค่ะ', 'โอเคค่ะ', 'ให้อาจารย์เซ็นเรียบร้อยแล้วครับ', 'ได้ค่ะ', 'โอเคครับ ผมขอเอาไปให้อาจารย์เซ็นก่อนครับ', 'ทั้งสองคนเลย', 'มีค่ะ', 'ขอโทษครับ ผมลืมถามเรื่องลายเซ็นต้องมีของอาจารย์ที่ปรึกษากับอาจารย์รายวิชาเลยไหมครับ', 'เคค่ะ', 'ได้เลยครับ', 'ส่งให้พี่วันศุกร์ นะคะ', 'ขอบคุณค่ะ', 'โอเคครับ', 'กรอกใบสมัครด้วยนะ', 'เคค่ะ', 'คุยแล้วครับ', 'อาจารย์คุยกับน้องแล้วใช่ไหม', 'เวลาทำงาน', 'การทำงาน คือ ทำ 6 ชม. ต่อสัปดาห์นะคะ', 'มีตรวจงานบ้าง', 'งาน ก็มี ช่วยดูระหว่างน้องลงแลบ ค่ะ', 'TA 241-151', 'น้องครับ', 'เคค่ะ', 'ยังเลยครับ', 'อาจารย์ เค้าทักมาคุยยัง', 'ขอบคุณค่ะ', 'รับทราบครับ', 'เดียว อ.สมชัย จะติดต่อเราผ่านทางเฟสบุ๊ค นะคะ', 'เคค่ะ', '087-6313043 ครับ', 'พี่ขอเบอร์โทรเราหน่อย', 'ได้ค่ะ', 'เวลาไม่ชนครับ ผมขอทราบลักษณะงานก่อนนะครับ', 'ได้ค่ะ', 'สักครู่นะครับ กำลังเช็คตารางอยู่ครับ', 'ถ้าได้ พี่ให้คุย กับอ.สมชัย ถามลักษณะงานก่อน', 'ช่วงดังกล่าว มีเรียนไหม', 'ได้ไหม', 'ทำงาน วัน จันทร์ เวลา 13.00 - 16.00 และวันพุธ เวลา 13.00 -16.00น.', 'พี่จะขอทาบทามเรา เป็นTA วิชา 241-151 หลักสูตร IA หน่อยได้ไหม', 'เทอมนี้ เรารับทุน ผู้ช่วยสอน วิชา ไหนบ้าง', 'สวัสดีค่ะ', 'ผม 6210110297 รชานนท์ คงชาย ครับ', 'โอเคครับ ขอบคุณครับ', 'เขียนมาให้ครบ นะคะ', 'Template รายงานการฝึกงานของนักศึกษา (ฉบับสมบูรณ์)', 'มีหัวข้ออยู', 'http://www.academic.eng.psu.ac.th/internship', 'ไม่จำกัดค่ะ', 'ขอสอบถามเรื่องรายงานฝึกงานครับว่ามีจำกัดจำนวนหน้าขั้นต่ำที่ต้องทำส่งไหมครับ', 'รับทราบครับ ขอบคุณครับ', 'ใส่ซอง มานะ', 'ให้พี่เลี้ยงเซ็นมา แล้วส่งทางจดหมายได้เลย', 'อันเดี่ยวกันค่ะ', 'ครับ', 'จะขอสอบถามเรื่อง ใบประเมินจากบริษัท ที่ต้องส่งให้ภาควิชาฯจะเป็นเอกสารเดียวกันที่อยู่บนหน้าเว็บของ internship(http://www.academic.eng.psu.ac.th/internship) ไหมครับ', 'เคค่ะ', 'แบบรายงานTAเดือนมีนาคมเรียบร้อยแล้วครับ', 'เคค่ะ', 'แบบรายงานTAเดือนกุมภาพันธ์เรียบร้อยแล้วครับ', 'เคค่ะ', 'แบบรายงานTAเดือนมกราคมเรียบร้อยแล้วครับ', 'เคค่ะ', 'g88jt', 'ได้หน้าเล่มมาแล้วครับ', 'มารับได้เลยค่ะ', 'พี่มลครับ รับอุปกรณ์รายวิชา 240-302 ที่แจ้งไว้คือรับได้ตั้งแต่วันไหนหรอครับ', 'เคค่ะ', 'รับทราบครับ ขอบคุณครับ', 'ถ้าได้แล้วรีบ ส่งมานะ', 'ต้องทำเรื่องภายในวันไหนอะครับ ผมคิดว่าวันศุกร์จะไปขอหน้าบัญชีของ มอ มาครับ', 'ไปเปิดบัญชี ได้ไหม', 'บ้านอยู่ไหนค่ะ', 'ของผู้ปกครอง ใช้ไม่ได้ค่ะ', 'มีของผู้ปกครองอะครับ', 'มีของ ไทยพาณิช ที่ เปิดในจังหวัด สงขลา ไหม', 'การเงิน เค้าไม่รับอะ', 'มีของ ธนาคารออมสิน ครับ', 'ตอนนี้ มีของ ธนาคาร อะไรเอ๋ย', 'ถ้าใช้เป็นหน้าแอปที่แสดงเลขบัญชีได้ไหมครับ ผมยังไม่เคยไปขอหน้าเล่มบัญชีเลยครับ', 'ไทยพาณฺชย์ ของ มอ. นะคะ', 'ใช้บัญชีธนาคารไหนก็ได้ไหมครับ', 'เคค่ะ', 'ได้ครับ สักครู่นะครับ', 'สำเนาบัญชี ธนาคารด้วยนะคะ', 'น้องครับ', 'เคค่ะ', 'ให้อาจารย์เซ็นเดือนธันวาคมเรียบร้อยแล้วครับ', 'เคค่ะ', 'ตรวจการบ้านไปประมาณ 2 ชิ้นครับ', 'ทำกี่ครั้งค่ะ', 'เดือน ธ.ค.', 'ครับ', 'น้องครับ', 'ขอบคุณค่ะ', 'เคค่ะ', 'https://www.facebook.com/plub.pattanon', 'ไม่ยังส่งเอกสาร เบิกเหมือนกัน', 'มีเฟ๊ส ไหม', 'แล้วอีกคน ที่เป็น TA กับน้องนะคะ', 'เคค่ะ', 'รับทราบครับ', 'กรอกคำว่า ตรวจการบ้าน อย่างเดี่ยวเลยค่ะ', 'ตรงงานที่ทำ', 'กรอก 3 ชั่วโมง ต่อ สัปดาห์', 'ตรงชั่วโมงตรวจการบ้าน กรอกอิงจากอะไรหรอครับ', 'เดี่ยวพี่ให้เซ็นเอง', 'ในส่วนของหัวหน้าภาค เว้น ไว้ค่ะ', 'แล้วก็ ให้อ.สุธน เซ็น ด้วยนะคะ', 'มีตัวอย่างการกรอก อยู่ ในเอกสาร ค่ะ', 'กรอกข้อมุล ส่งของเดือน ธันวาคม มาก่อนนะ', 'แบบฟอร์ม ค่ะ', 'ใช่ครับ ยังไม่ได้ส่งเลย', 'ครั้งที่แล้วยังไม่ส่งเอกสารเบิกจ่ายหรือค่ะ', 'หลังจากนั้น คณะจะทำเรื่องเบิกเงินให้ค่ะ', 'เช่น สิ้นเดือน มกรา ก็ให้ส่ง ต้นเดือนกุมภาค่ะ', 'พี่จะส่งทุก ทุกวันที่ 1 ของเดือนถัดไปที่เรา ทำงานค่ะ', 'เอกสาร ส่งเหมือนตอนเดือน ธันวาค่ะ', 'สวัสดีครับพี่มล ตอนนี้ผมคิดว่าจะทำเรื่องเบิกเงิน TA รายวิชา 240-124 ครับ แต่ยังไม่เคยทำ TA เลยยังไม่ทราบรายละเอียดสักเท่าไหร่เลยครับ รบกวนพี่มลแจ้งช่องทางหรือบอกรายละเอียดได้ไหมครับ ขอบคุณครับ', 'resume ครับ', 'หนังสือรับรองเข้าฝึกงานจากบริษัทครับ', 'http://www.academic.eng.psu.ac.th/images/tf/training/%E0%B9%81%E0%B8%9A%E0%B8%9A%E0%B8%9F%E0%B8%AD%E0%B8%A3%E0%B8%A1/%E0%B8%84%E0%B8%B3%E0%B8%A3%E0%B8%AD%E0%B8%87%E0%B8%9D%E0%B8%81%E0%B8%87%E0%B8%B2%E0%B8%99%E0%B8%AB%E0%B8%B2%E0%B9%80%E0%B8%AD%E0%B8%87_%E0%B8%9D%E0%B8%87.4__8-11-64.pdf', '0876313043', 'พิมพ์เบอร์มาค่ะ', 'สะดวกคุยไหม', 'ต้องเป็นเอกสารแบบไหนหรอครับ', 'หมายถึง บริษัท เค้าต้องการหรือค่ะ', 'ขอโทษครับเดี๋ยวจะส่งกลับมาใหม่อีกครั้งนะครับ', 'ส่งผิดแบบฟอร์ม แล้วค่ะ', 'น้องครับ', 'รบกวนด้วยครับ', 'resume', 'ใบสมัครงาน', 'สวัสดิ์ดีครับ ผมขออนุญาติส่งเอกสารฝึกงานนะครับ', 'เคค่ะ', 'ผมไม่ค่อยสะดวกเท่าไหร่ครับ ตารางเวลาค่อนข้างเต็ม ขออภัยด้วยครับ', 'ทำงาน 3 ชม.ต่อสัปดาห์นะคะ', 'อันนี้ คือช่วงเวลาเรียน\\nจันทร์ 11.00 - 11.50\\nพุธ 09.00 - 10.50\\nศุกร์ 10.30 - 11.50\\n\\nแต่เวลาทำงาน น่าจะนอกเวลา นะคะ', 'ตอนนี้คุณสามารถส่งข้อความ โทรหากันและกัน และดูข้อมูลบางอย่างได้ เช่น สถานะกำลังใช้งานของคุณและเวลาที่คุณอ่านข้อความ', 'พี่ทาบทาม เราเป็น TA\\nFUNDA MATHEMATICS FOR ENGINEER\\nแม็ท ของ ปี 1\\nได้ไหม\\nงาน คือ ติว กับตราจการบ้าน\\nทำกับ อ.มนตรี และอ.ธเนศ', 'สวัสดีครับผมนายรชานนท์ คงชาย 6210110297 ครับ']\n"
     ]
    }
   ],
   "source": [
    "print(message_list)"
   ]
  },
  {
   "cell_type": "markdown",
   "metadata": {},
   "source": [
    "## Filter non contain thai character "
   ]
  },
  {
   "cell_type": "code",
   "execution_count": null,
   "metadata": {},
   "outputs": [],
   "source": [
    "# finding constant values\n",
    "text_bytes_code = 'ก'.encode('utf-8')\n",
    "print(text_bytes_code)\n",
    "print(len(text_bytes_code))\n",
    "\n",
    "text_int_code = int.from_bytes(text_bytes_code, 'big')\n",
    "print(text_int_code)\n",
    "\n",
    "text_int_code += 62\n",
    "\n",
    "text_bytes_code_last = text_int_code.to_bytes(len(text_bytes_code), 'big')\n",
    "print(text_bytes_code_last)\n",
    "text_last = text_bytes_code_last.decode('utf-8')\n",
    "\n",
    "print(text_last)"
   ]
  },
  {
   "cell_type": "code",
   "execution_count": null,
   "metadata": {},
   "outputs": [],
   "source": [
    "# use constanst values to create map\n",
    "thai_characters_offset = 14727297\n",
    "thai_characters_bytes_len = 3\n",
    "thai_characters = [ (index.to_bytes(thai_characters_bytes_len, 'big')).decode('utf-8') for index in range(thai_characters_offset, thai_characters_offset + 63) ]\n",
    "print(thai_characters)"
   ]
  },
  {
   "cell_type": "code",
   "execution_count": null,
   "metadata": {},
   "outputs": [],
   "source": [
    "# filtter messages\n",
    "filter_func = lambda s: any(x in s for x in thai_characters)\n",
    "\n",
    "message_list_filtered = [line for line in message_list if filter_func(line)]\n",
    "\n",
    "print(message_list_filtered)"
   ]
  },
  {
   "cell_type": "markdown",
   "metadata": {},
   "source": [
    "### EXPORT TO CSV"
   ]
  },
  {
   "cell_type": "code",
   "execution_count": null,
   "metadata": {},
   "outputs": [],
   "source": [
    "data = pd.DataFrame({'message': message_list_filtered})\n",
    "data"
   ]
  },
  {
   "cell_type": "code",
   "execution_count": null,
   "metadata": {},
   "outputs": [],
   "source": [
    "data.to_csv('message_csv.csv', encoding='utf-8-sig')"
   ]
  },
  {
   "cell_type": "markdown",
   "metadata": {},
   "source": [
    "# Use Case"
   ]
  },
  {
   "cell_type": "code",
   "execution_count": null,
   "metadata": {},
   "outputs": [],
   "source": [
    "message_data_converter = MessageDataConverter()"
   ]
  },
  {
   "cell_type": "code",
   "execution_count": null,
   "metadata": {},
   "outputs": [],
   "source": [
    "message_data_converter.import_json(path='./raw_data/wimon_message_1.json')"
   ]
  },
  {
   "cell_type": "code",
   "execution_count": null,
   "metadata": {},
   "outputs": [],
   "source": [
    "message_data_converter.get_message_list()"
   ]
  },
  {
   "cell_type": "code",
   "execution_count": null,
   "metadata": {},
   "outputs": [],
   "source": [
    "message_data_converter.export_csv(path='./data/message_temp.csv')"
   ]
  },
  {
   "cell_type": "code",
   "execution_count": null,
   "metadata": {},
   "outputs": [],
   "source": [
    "# message_data_converter.merge_csv(csv1_path='./data/message_1.csv', csv2_path= './data/message_2.csv', des_path='./data/message_12.csv')"
   ]
  },
  {
   "cell_type": "markdown",
   "metadata": {},
   "source": [
    "### Many JSON in folder to CSV"
   ]
  },
  {
   "cell_type": "code",
   "execution_count": null,
   "metadata": {},
   "outputs": [],
   "source": [
    "# init converter\n",
    "message_data_converter = MessageDataConverter()"
   ]
  },
  {
   "cell_type": "code",
   "execution_count": null,
   "metadata": {},
   "outputs": [],
   "source": [
    "# mypath = './raw_data/'\n",
    "# onlyfiles = [f for f in listdir(mypath) if isfile(join(mypath, f))]"
   ]
  },
  {
   "cell_type": "code",
   "execution_count": null,
   "metadata": {},
   "outputs": [],
   "source": [
    "# print(onlyfiles)\n",
    "# for f in onlyfiles:\n",
    "#     file_name = f.split('.')[0]\n",
    "#     message_data_converter.import_json(path = f'./raw_data/{f}')\n",
    "#     message_data_converter.export_csv(path = f'./data/{file_name}.csv')\n",
    "#     message_data_converter.clear_message_list()\n"
   ]
  },
  {
   "cell_type": "code",
   "execution_count": null,
   "metadata": {},
   "outputs": [],
   "source": [
    "#completed many file convert func. in module\n",
    "message_data_converter.convert_many(json_path= './raw_data/', csv_path= './data/')"
   ]
  },
  {
   "cell_type": "markdown",
   "metadata": {},
   "source": [
    "### Merged Multiple CSV"
   ]
  },
  {
   "cell_type": "code",
   "execution_count": null,
   "metadata": {},
   "outputs": [],
   "source": [
    "message_data_converter.merge_many_csv(src_path='./test_data/', des_path='./data/')"
   ]
  },
  {
   "cell_type": "markdown",
   "metadata": {},
   "source": [
    "### Count Words in Dataframe"
   ]
  },
  {
   "cell_type": "code",
   "execution_count": null,
   "metadata": {},
   "outputs": [],
   "source": [
    "data = pd.read_csv(\"./data/message_temp.csv\")\n",
    "data = data[['message', 'category']]\n",
    "\n",
    "word_list = set()\n",
    "for text in data['message']:\n",
    "    \n",
    "    text = text.lower().replace('\\n', ' ').replace('\\r', '').strip()\n",
    "    text = re.findall(r\"[\\u0E00-\\u0E7Fa-zA-Z']+\", text)\n",
    "    text = ' '.join(text)\n",
    "\n",
    "    word_tokens = THAI2FIT_TOKENIZER.word_tokenize(text)\n",
    "    filtered_sentence = set([w for w in word_tokens])\n",
    "\n",
    "    word_list.update(filtered_sentence)"
   ]
  },
  {
   "cell_type": "code",
   "execution_count": null,
   "metadata": {},
   "outputs": [],
   "source": [
    "len(word_list)"
   ]
  },
  {
   "cell_type": "markdown",
   "metadata": {},
   "source": [
    "### Clean Empty Data On Merge"
   ]
  },
  {
   "cell_type": "code",
   "execution_count": null,
   "metadata": {},
   "outputs": [],
   "source": [
    "data = pd.read_csv(\"./data/_csv/3hnum3mum_message_1.csv\")"
   ]
  },
  {
   "cell_type": "code",
   "execution_count": null,
   "metadata": {},
   "outputs": [],
   "source": [
    "data = data.dropna()"
   ]
  },
  {
   "cell_type": "code",
   "execution_count": null,
   "metadata": {},
   "outputs": [],
   "source": [
    "def clean_data(data):\n",
    "    #filter na\n",
    "    data = data.dropna()\n",
    "    # filter common chat\n",
    "    # data = data.drop(data.index[ data['category'] == 'C' ])\n",
    "    # sort data by category\n",
    "    data = data.sort_values(by=['category'])\n",
    "\n",
    "    data = data.reset_index()\n",
    "    data = data[['message', 'category']]\n",
    "\n",
    "    return data"
   ]
  },
  {
   "cell_type": "code",
   "execution_count": null,
   "metadata": {},
   "outputs": [],
   "source": [
    "data = clean_data(data)"
   ]
  },
  {
   "attachments": {},
   "cell_type": "markdown",
   "metadata": {},
   "source": [
    "### SemiAuto Label"
   ]
  },
  {
   "cell_type": "code",
   "execution_count": 2,
   "metadata": {},
   "outputs": [],
   "source": [
    "from project_module.message_classifier import MessageClassifier"
   ]
  },
  {
   "cell_type": "code",
   "execution_count": 3,
   "metadata": {},
   "outputs": [],
   "source": [
    "message_classifier = MessageClassifier()\n",
    "message_classifier.load_model(\n",
    "    model_path='./models/mlp_model.joblib',\n",
    "    json_classes_path='./classes.json',\n",
    "    scaler_path='./models/scaler.joblib',\n",
    ")"
   ]
  },
  {
   "cell_type": "code",
   "execution_count": 4,
   "metadata": {},
   "outputs": [],
   "source": [
    "message_data_converter = MessageDataConverter()\n",
    "message_data_converter.prelabel_csv('./data/csv/cintania53_message_1.csv', prelabel_model= message_classifier)"
   ]
  }
 ],
 "metadata": {
  "kernelspec": {
   "display_name": "venv",
   "language": "python",
   "name": "python3"
  },
  "language_info": {
   "codemirror_mode": {
    "name": "ipython",
    "version": 3
   },
   "file_extension": ".py",
   "mimetype": "text/x-python",
   "name": "python",
   "nbconvert_exporter": "python",
   "pygments_lexer": "ipython3",
   "version": "3.10.9 (tags/v3.10.9:1dd9be6, Dec  6 2022, 20:01:21) [MSC v.1934 64 bit (AMD64)]"
  },
  "orig_nbformat": 4,
  "vscode": {
   "interpreter": {
    "hash": "fc00dbedb30c14cd2154db25d8933b38548d2caecc83f34fe8c69cbbbd180ae7"
   }
  }
 },
 "nbformat": 4,
 "nbformat_minor": 2
}
