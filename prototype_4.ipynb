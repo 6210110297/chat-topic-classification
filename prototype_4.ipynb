{
 "cells": [
  {
   "cell_type": "markdown",
   "metadata": {},
   "source": [
    "# NLP & W2VEC"
   ]
  },
  {
   "cell_type": "code",
   "execution_count": null,
   "metadata": {},
   "outputs": [
    {
     "ename": "",
     "evalue": "",
     "output_type": "error",
     "traceback": [
      "\u001b[1;31mFailed to start the Kernel. \n",
      "\u001b[1;31mFailed to start the Kernel 'exenv (Python 3.8.5)'. \n",
      "\u001b[1;31mView Jupyter <a href='command:jupyter.viewOutput'>log</a> for further details. No matching bindings found for serviceIdentifier: Symbol(IInterpreterAutoSelectionService)"
     ]
    }
   ],
   "source": [
    "import pandas as pd\n",
    "import seaborn as sns\n",
    "import re\n",
    "import numpy as np\n",
    "import matplotlib.pyplot as plt\n",
    "import json\n",
    "\n",
    "from wordcloud import WordCloud\n",
    "from pythainlp.tokenize import THAI2FIT_TOKENIZER # ใช้ในการตัดคำ\n",
    "from pythainlp.corpus import common # ใช้ลบคำที่ไม่ใช้ออก\n",
    "\n",
    "from sklearn import preprocessing\n",
    "\n",
    "# Word2Vec\n",
    "from pythainlp.word_vector import WordVector\n",
    "from gensim.models.doc2vec import Doc2Vec, TaggedDocument\n",
    "\n",
    "# AI\n",
    "from sklearn.model_selection import train_test_split # split data set\n",
    "from sklearn.metrics import accuracy_score, classification_report # report train & test result\n",
    "\n",
    "# AI Models\n",
    "from sklearn.ensemble import RandomForestClassifier\n",
    "\n",
    "# Hyperparameter Tunning\n",
    "from skopt import BayesSearchCV\n",
    "from skopt.space import Integer, Categorical, Real\n",
    "from skopt.plots import plot_objective, plot_histogram\n",
    "\n",
    "# Saving Intelligence\n",
    "from joblib import dump, load\n"
   ]
  },
  {
   "cell_type": "code",
   "execution_count": null,
   "metadata": {},
   "outputs": [
    {
     "ename": "",
     "evalue": "",
     "output_type": "error",
     "traceback": [
      "\u001b[1;31mFailed to start the Kernel. \n",
      "\u001b[1;31mFailed to start the Kernel 'exenv (Python 3.8.5)'. \n",
      "\u001b[1;31mView Jupyter <a href='command:jupyter.viewOutput'>log</a> for further details. No matching bindings found for serviceIdentifier: Symbol(IInterpreterAutoSelectionService)"
     ]
    }
   ],
   "source": [
    "data = pd.read_csv(\"./data/data1668154807.csv\")\n",
    "data = data[['message', 'category']]"
   ]
  },
  {
   "cell_type": "code",
   "execution_count": null,
   "metadata": {},
   "outputs": [
    {
     "ename": "",
     "evalue": "",
     "output_type": "error",
     "traceback": [
      "\u001b[1;31mFailed to start the Kernel. \n",
      "\u001b[1;31mFailed to start the Kernel 'exenv (Python 3.8.5)'. \n",
      "\u001b[1;31mView Jupyter <a href='command:jupyter.viewOutput'>log</a> for further details. No matching bindings found for serviceIdentifier: Symbol(IInterpreterAutoSelectionService)"
     ]
    }
   ],
   "source": [
    "data.head()"
   ]
  },
  {
   "cell_type": "markdown",
   "metadata": {},
   "source": [
    "### Data Features and Values"
   ]
  },
  {
   "cell_type": "code",
   "execution_count": null,
   "metadata": {},
   "outputs": [
    {
     "ename": "",
     "evalue": "",
     "output_type": "error",
     "traceback": [
      "\u001b[1;31mFailed to start the Kernel. \n",
      "\u001b[1;31mFailed to start the Kernel 'exenv (Python 3.8.5)'. \n",
      "\u001b[1;31mView Jupyter <a href='command:jupyter.viewOutput'>log</a> for further details. No matching bindings found for serviceIdentifier: Symbol(IInterpreterAutoSelectionService)"
     ]
    }
   ],
   "source": [
    "def clean_data(data):\n",
    "    # filter common chat\n",
    "    # data = data.drop(data.index[ data['category'] == 'C' ])\n",
    "    # sort data by category\n",
    "    data = data.sort_values(by=['category'])\n",
    "\n",
    "    data = data.reset_index()\n",
    "    data = data[['message', 'category']]\n",
    "\n",
    "    return data"
   ]
  },
  {
   "cell_type": "code",
   "execution_count": null,
   "metadata": {},
   "outputs": [
    {
     "ename": "",
     "evalue": "",
     "output_type": "error",
     "traceback": [
      "\u001b[1;31mFailed to start the Kernel. \n",
      "\u001b[1;31mFailed to start the Kernel 'exenv (Python 3.8.5)'. \n",
      "\u001b[1;31mView Jupyter <a href='command:jupyter.viewOutput'>log</a> for further details. No matching bindings found for serviceIdentifier: Symbol(IInterpreterAutoSelectionService)"
     ]
    }
   ],
   "source": [
    "data = clean_data(data)"
   ]
  },
  {
   "cell_type": "code",
   "execution_count": null,
   "metadata": {},
   "outputs": [
    {
     "ename": "",
     "evalue": "",
     "output_type": "error",
     "traceback": [
      "\u001b[1;31mFailed to start the Kernel. \n",
      "\u001b[1;31mFailed to start the Kernel 'exenv (Python 3.8.5)'. \n",
      "\u001b[1;31mView Jupyter <a href='command:jupyter.viewOutput'>log</a> for further details. No matching bindings found for serviceIdentifier: Symbol(IInterpreterAutoSelectionService)"
     ]
    }
   ],
   "source": [
    "category_list = data['category'].unique()\n",
    "category_list"
   ]
  },
  {
   "cell_type": "code",
   "execution_count": null,
   "metadata": {},
   "outputs": [
    {
     "ename": "",
     "evalue": "",
     "output_type": "error",
     "traceback": [
      "\u001b[1;31mFailed to start the Kernel. \n",
      "\u001b[1;31mFailed to start the Kernel 'exenv (Python 3.8.5)'. \n",
      "\u001b[1;31mView Jupyter <a href='command:jupyter.viewOutput'>log</a> for further details. No matching bindings found for serviceIdentifier: Symbol(IInterpreterAutoSelectionService)"
     ]
    }
   ],
   "source": [
    "data.shape"
   ]
  },
  {
   "cell_type": "code",
   "execution_count": null,
   "metadata": {},
   "outputs": [
    {
     "ename": "",
     "evalue": "",
     "output_type": "error",
     "traceback": [
      "\u001b[1;31mFailed to start the Kernel. \n",
      "\u001b[1;31mFailed to start the Kernel 'exenv (Python 3.8.5)'. \n",
      "\u001b[1;31mView Jupyter <a href='command:jupyter.viewOutput'>log</a> for further details. No matching bindings found for serviceIdentifier: Symbol(IInterpreterAutoSelectionService)"
     ]
    }
   ],
   "source": [
    "data.dtypes"
   ]
  },
  {
   "cell_type": "code",
   "execution_count": null,
   "metadata": {},
   "outputs": [
    {
     "ename": "",
     "evalue": "",
     "output_type": "error",
     "traceback": [
      "\u001b[1;31mFailed to start the Kernel. \n",
      "\u001b[1;31mFailed to start the Kernel 'exenv (Python 3.8.5)'. \n",
      "\u001b[1;31mView Jupyter <a href='command:jupyter.viewOutput'>log</a> for further details. No matching bindings found for serviceIdentifier: Symbol(IInterpreterAutoSelectionService)"
     ]
    }
   ],
   "source": [
    "data.isnull().any()"
   ]
  },
  {
   "cell_type": "markdown",
   "metadata": {},
   "source": [
    "### Countplot of target Variable(Category)"
   ]
  },
  {
   "cell_type": "code",
   "execution_count": null,
   "metadata": {},
   "outputs": [
    {
     "ename": "",
     "evalue": "",
     "output_type": "error",
     "traceback": [
      "\u001b[1;31mFailed to start the Kernel. \n",
      "\u001b[1;31mFailed to start the Kernel 'exenv (Python 3.8.5)'. \n",
      "\u001b[1;31mView Jupyter <a href='command:jupyter.viewOutput'>log</a> for further details. No matching bindings found for serviceIdentifier: Symbol(IInterpreterAutoSelectionService)"
     ]
    }
   ],
   "source": [
    "def plot_count_graph():\n",
    "    count_graph = sns.countplot(data.category)\n",
    "    count_list = []\n",
    "\n",
    "    for p in count_graph.patches:\n",
    "        height = p.get_height()\n",
    "        count_list.append(height)\n",
    "        count_graph.annotate('{:.1f}'.format(height), (p.get_x()+0.25, height+0.01))\n",
    "\n",
    "    plt.show()"
   ]
  },
  {
   "cell_type": "code",
   "execution_count": null,
   "metadata": {},
   "outputs": [
    {
     "ename": "",
     "evalue": "",
     "output_type": "error",
     "traceback": [
      "\u001b[1;31mFailed to start the Kernel. \n",
      "\u001b[1;31mFailed to start the Kernel 'exenv (Python 3.8.5)'. \n",
      "\u001b[1;31mView Jupyter <a href='command:jupyter.viewOutput'>log</a> for further details. No matching bindings found for serviceIdentifier: Symbol(IInterpreterAutoSelectionService)"
     ]
    }
   ],
   "source": [
    "plot_count_graph()"
   ]
  },
  {
   "cell_type": "markdown",
   "metadata": {},
   "source": [
    "### Balancing Category"
   ]
  },
  {
   "cell_type": "code",
   "execution_count": null,
   "metadata": {},
   "outputs": [
    {
     "ename": "",
     "evalue": "",
     "output_type": "error",
     "traceback": [
      "\u001b[1;31mFailed to start the Kernel. \n",
      "\u001b[1;31mFailed to start the Kernel 'exenv (Python 3.8.5)'. \n",
      "\u001b[1;31mView Jupyter <a href='command:jupyter.viewOutput'>log</a> for further details. No matching bindings found for serviceIdentifier: Symbol(IInterpreterAutoSelectionService)"
     ]
    }
   ],
   "source": [
    "df_list = []\n",
    "for category in category_list:\n",
    "    df_list.append(data.query(f\"category == '{category}'\").sample(\n",
    "        n=600,\n",
    "        replace=False, #True if numbers of sample higher than minimum numbers of category\n",
    "        random_state=18, \n",
    "        )\n",
    "    )\n",
    "\n",
    "data = clean_data(data= pd.concat(df_list))"
   ]
  },
  {
   "cell_type": "code",
   "execution_count": null,
   "metadata": {},
   "outputs": [
    {
     "ename": "",
     "evalue": "",
     "output_type": "error",
     "traceback": [
      "\u001b[1;31mFailed to start the Kernel. \n",
      "\u001b[1;31mFailed to start the Kernel 'exenv (Python 3.8.5)'. \n",
      "\u001b[1;31mView Jupyter <a href='command:jupyter.viewOutput'>log</a> for further details. No matching bindings found for serviceIdentifier: Symbol(IInterpreterAutoSelectionService)"
     ]
    }
   ],
   "source": [
    "plot_count_graph()"
   ]
  },
  {
   "cell_type": "code",
   "execution_count": null,
   "metadata": {},
   "outputs": [
    {
     "ename": "",
     "evalue": "",
     "output_type": "error",
     "traceback": [
      "\u001b[1;31mFailed to start the Kernel. \n",
      "\u001b[1;31mFailed to start the Kernel 'exenv (Python 3.8.5)'. \n",
      "\u001b[1;31mView Jupyter <a href='command:jupyter.viewOutput'>log</a> for further details. No matching bindings found for serviceIdentifier: Symbol(IInterpreterAutoSelectionService)"
     ]
    }
   ],
   "source": [
    "data['message_length'] = data['message'].str.len()\n",
    "print(data['message_length'])"
   ]
  },
  {
   "cell_type": "markdown",
   "metadata": {},
   "source": [
    "### Words Distribution Plot"
   ]
  },
  {
   "cell_type": "code",
   "execution_count": null,
   "metadata": {},
   "outputs": [
    {
     "ename": "",
     "evalue": "",
     "output_type": "error",
     "traceback": [
      "\u001b[1;31mFailed to start the Kernel. \n",
      "\u001b[1;31mFailed to start the Kernel 'exenv (Python 3.8.5)'. \n",
      "\u001b[1;31mView Jupyter <a href='command:jupyter.viewOutput'>log</a> for further details. No matching bindings found for serviceIdentifier: Symbol(IInterpreterAutoSelectionService)"
     ]
    }
   ],
   "source": [
    "sns.displot(data['message_length']).set_titles('message_length')"
   ]
  },
  {
   "cell_type": "markdown",
   "metadata": {},
   "source": [
    "### Count Words"
   ]
  },
  {
   "cell_type": "code",
   "execution_count": null,
   "metadata": {},
   "outputs": [
    {
     "ename": "",
     "evalue": "",
     "output_type": "error",
     "traceback": [
      "\u001b[1;31mFailed to start the Kernel. \n",
      "\u001b[1;31mFailed to start the Kernel 'exenv (Python 3.8.5)'. \n",
      "\u001b[1;31mView Jupyter <a href='command:jupyter.viewOutput'>log</a> for further details. No matching bindings found for serviceIdentifier: Symbol(IInterpreterAutoSelectionService)"
     ]
    }
   ],
   "source": [
    "def count_words(category=''):\n",
    "    word_list = set()\n",
    "    if(category != ''):\n",
    "        sub_frame = data[data['category']==category]\n",
    "    else:\n",
    "        sub_frame = data\n",
    "\n",
    "    for text in sub_frame['message']:\n",
    "        \n",
    "        text = text.lower().replace('\\n', ' ').replace('\\r', '').strip()\n",
    "        text = re.findall(r\"[\\u0E00-\\u0E7Fa-zA-Z']+\", text)\n",
    "        text = ' '.join(text)\n",
    "\n",
    "        word_tokens = THAI2FIT_TOKENIZER.word_tokenize(text)\n",
    "        filtered_sentence = set([w for w in word_tokens])\n",
    "\n",
    "        word_list.update(filtered_sentence)\n",
    "\n",
    "    return len(word_list)"
   ]
  },
  {
   "cell_type": "code",
   "execution_count": null,
   "metadata": {},
   "outputs": [
    {
     "ename": "",
     "evalue": "",
     "output_type": "error",
     "traceback": [
      "\u001b[1;31mFailed to start the Kernel. \n",
      "\u001b[1;31mFailed to start the Kernel 'exenv (Python 3.8.5)'. \n",
      "\u001b[1;31mView Jupyter <a href='command:jupyter.viewOutput'>log</a> for further details. No matching bindings found for serviceIdentifier: Symbol(IInterpreterAutoSelectionService)"
     ]
    }
   ],
   "source": [
    "words_category = []\n",
    "for category in category_list:\n",
    "    words_category.append(count_words(category))\n",
    "\n",
    "words_category"
   ]
  },
  {
   "cell_type": "code",
   "execution_count": null,
   "metadata": {},
   "outputs": [
    {
     "ename": "",
     "evalue": "",
     "output_type": "error",
     "traceback": [
      "\u001b[1;31mFailed to start the Kernel. \n",
      "\u001b[1;31mFailed to start the Kernel 'exenv (Python 3.8.5)'. \n",
      "\u001b[1;31mView Jupyter <a href='command:jupyter.viewOutput'>log</a> for further details. No matching bindings found for serviceIdentifier: Symbol(IInterpreterAutoSelectionService)"
     ]
    }
   ],
   "source": [
    "print('Total Word:')\n",
    "print(count_words())"
   ]
  },
  {
   "cell_type": "code",
   "execution_count": null,
   "metadata": {},
   "outputs": [
    {
     "ename": "",
     "evalue": "",
     "output_type": "error",
     "traceback": [
      "\u001b[1;31mFailed to start the Kernel. \n",
      "\u001b[1;31mFailed to start the Kernel 'exenv (Python 3.8.5)'. \n",
      "\u001b[1;31mView Jupyter <a href='command:jupyter.viewOutput'>log</a> for further details. No matching bindings found for serviceIdentifier: Symbol(IInterpreterAutoSelectionService)"
     ]
    }
   ],
   "source": [
    "words_count = {'category': category_list, 'words_count': words_category}\n",
    "w_count_data = pd.DataFrame(words_count)\n",
    "sns.barplot(x= 'category', y='words_count', data=w_count_data)"
   ]
  },
  {
   "cell_type": "markdown",
   "metadata": {},
   "source": [
    "### Word Cloud"
   ]
  },
  {
   "cell_type": "code",
   "execution_count": null,
   "metadata": {},
   "outputs": [
    {
     "ename": "",
     "evalue": "",
     "output_type": "error",
     "traceback": [
      "\u001b[1;31mFailed to start the Kernel. \n",
      "\u001b[1;31mFailed to start the Kernel 'exenv (Python 3.8.5)'. \n",
      "\u001b[1;31mView Jupyter <a href='command:jupyter.viewOutput'>log</a> for further details. No matching bindings found for serviceIdentifier: Symbol(IInterpreterAutoSelectionService)"
     ]
    }
   ],
   "source": [
    "def create_wordcloud(words):\n",
    "    wordcloud = WordCloud(font_path='THSarabun.ttf', # path ที่ตั้ง Font\n",
    "                      regexp=r\"[\\u0E00-\\u0E7Fa-zA-Z']+\" # ป้องกัน bug วรรณยุกต์\n",
    "                      ).generate(' '.join(THAI2FIT_TOKENIZER.word_tokenize(words)))\n",
    "    plt.figure(figsize=[10, 7])\n",
    "    plt.imshow(wordcloud, interpolation= \"bilinear\")\n",
    "    plt.axis('off')\n",
    "    plt.show()"
   ]
  },
  {
   "cell_type": "code",
   "execution_count": null,
   "metadata": {},
   "outputs": [
    {
     "ename": "",
     "evalue": "",
     "output_type": "error",
     "traceback": [
      "\u001b[1;31mFailed to start the Kernel. \n",
      "\u001b[1;31mFailed to start the Kernel 'exenv (Python 3.8.5)'. \n",
      "\u001b[1;31mView Jupyter <a href='command:jupyter.viewOutput'>log</a> for further details. No matching bindings found for serviceIdentifier: Symbol(IInterpreterAutoSelectionService)"
     ]
    }
   ],
   "source": [
    "def check_wordcloud(category):\n",
    "    subset = data[data.category==category]\n",
    "    text = subset.message.values\n",
    "    words = ''.join(text)\n",
    "    create_wordcloud(words)"
   ]
  },
  {
   "cell_type": "code",
   "execution_count": null,
   "metadata": {},
   "outputs": [
    {
     "ename": "",
     "evalue": "",
     "output_type": "error",
     "traceback": [
      "\u001b[1;31mFailed to start the Kernel. \n",
      "\u001b[1;31mFailed to start the Kernel 'exenv (Python 3.8.5)'. \n",
      "\u001b[1;31mView Jupyter <a href='command:jupyter.viewOutput'>log</a> for further details. No matching bindings found for serviceIdentifier: Symbol(IInterpreterAutoSelectionService)"
     ]
    }
   ],
   "source": [
    "check_wordcloud('T')"
   ]
  },
  {
   "cell_type": "code",
   "execution_count": null,
   "metadata": {},
   "outputs": [
    {
     "ename": "",
     "evalue": "",
     "output_type": "error",
     "traceback": [
      "\u001b[1;31mFailed to start the Kernel. \n",
      "\u001b[1;31mFailed to start the Kernel 'exenv (Python 3.8.5)'. \n",
      "\u001b[1;31mView Jupyter <a href='command:jupyter.viewOutput'>log</a> for further details. No matching bindings found for serviceIdentifier: Symbol(IInterpreterAutoSelectionService)"
     ]
    }
   ],
   "source": [
    "check_wordcloud('S')"
   ]
  },
  {
   "cell_type": "code",
   "execution_count": null,
   "metadata": {},
   "outputs": [
    {
     "ename": "",
     "evalue": "",
     "output_type": "error",
     "traceback": [
      "\u001b[1;31mFailed to start the Kernel. \n",
      "\u001b[1;31mFailed to start the Kernel 'exenv (Python 3.8.5)'. \n",
      "\u001b[1;31mView Jupyter <a href='command:jupyter.viewOutput'>log</a> for further details. No matching bindings found for serviceIdentifier: Symbol(IInterpreterAutoSelectionService)"
     ]
    }
   ],
   "source": [
    "check_wordcloud('A')"
   ]
  },
  {
   "cell_type": "code",
   "execution_count": null,
   "metadata": {},
   "outputs": [
    {
     "ename": "",
     "evalue": "",
     "output_type": "error",
     "traceback": [
      "\u001b[1;31mFailed to start the Kernel. \n",
      "\u001b[1;31mFailed to start the Kernel 'exenv (Python 3.8.5)'. \n",
      "\u001b[1;31mView Jupyter <a href='command:jupyter.viewOutput'>log</a> for further details. No matching bindings found for serviceIdentifier: Symbol(IInterpreterAutoSelectionService)"
     ]
    }
   ],
   "source": [
    "check_wordcloud('Q')"
   ]
  },
  {
   "cell_type": "markdown",
   "metadata": {},
   "source": [
    "### Label Encoding"
   ]
  },
  {
   "cell_type": "code",
   "execution_count": null,
   "metadata": {},
   "outputs": [
    {
     "ename": "",
     "evalue": "",
     "output_type": "error",
     "traceback": [
      "\u001b[1;31mFailed to start the Kernel. \n",
      "\u001b[1;31mFailed to start the Kernel 'exenv (Python 3.8.5)'. \n",
      "\u001b[1;31mView Jupyter <a href='command:jupyter.viewOutput'>log</a> for further details. No matching bindings found for serviceIdentifier: Symbol(IInterpreterAutoSelectionService)"
     ]
    }
   ],
   "source": [
    "label_encoder = preprocessing.LabelEncoder()\n",
    "data['category_target'] = label_encoder.fit_transform(data['category'])"
   ]
  },
  {
   "cell_type": "code",
   "execution_count": null,
   "metadata": {},
   "outputs": [
    {
     "ename": "",
     "evalue": "",
     "output_type": "error",
     "traceback": [
      "\u001b[1;31mFailed to start the Kernel. \n",
      "\u001b[1;31mFailed to start the Kernel 'exenv (Python 3.8.5)'. \n",
      "\u001b[1;31mView Jupyter <a href='command:jupyter.viewOutput'>log</a> for further details. No matching bindings found for serviceIdentifier: Symbol(IInterpreterAutoSelectionService)"
     ]
    }
   ],
   "source": [
    "temp_data = data[['category', 'category_target']].drop_duplicates()\n",
    "print(temp_data)\n"
   ]
  },
  {
   "cell_type": "code",
   "execution_count": null,
   "metadata": {},
   "outputs": [
    {
     "ename": "",
     "evalue": "",
     "output_type": "error",
     "traceback": [
      "\u001b[1;31mFailed to start the Kernel. \n",
      "\u001b[1;31mFailed to start the Kernel 'exenv (Python 3.8.5)'. \n",
      "\u001b[1;31mView Jupyter <a href='command:jupyter.viewOutput'>log</a> for further details. No matching bindings found for serviceIdentifier: Symbol(IInterpreterAutoSelectionService)"
     ]
    }
   ],
   "source": [
    "# # keep category target in json\n",
    "# json_classes = temp_data.to_json(orient=\"records\")\n",
    "# json_file = 'classes.json'\n",
    "\n",
    "# # Writing to .json\n",
    "# with open(json_file, \"w\") as outfile:\n",
    "#     outfile.write(json_classes)\n"
   ]
  },
  {
   "cell_type": "code",
   "execution_count": null,
   "metadata": {},
   "outputs": [
    {
     "ename": "",
     "evalue": "",
     "output_type": "error",
     "traceback": [
      "\u001b[1;31mFailed to start the Kernel. \n",
      "\u001b[1;31mFailed to start the Kernel 'exenv (Python 3.8.5)'. \n",
      "\u001b[1;31mView Jupyter <a href='command:jupyter.viewOutput'>log</a> for further details. No matching bindings found for serviceIdentifier: Symbol(IInterpreterAutoSelectionService)"
     ]
    }
   ],
   "source": [
    "# # Opening JSON file\n",
    "# with open(json_file, 'r') as openfile:\n",
    "#     # Reading from json file\n",
    "#     temp_json = json.load(openfile)\n",
    "#     print(temp_json)"
   ]
  },
  {
   "cell_type": "code",
   "execution_count": null,
   "metadata": {},
   "outputs": [
    {
     "ename": "",
     "evalue": "",
     "output_type": "error",
     "traceback": [
      "\u001b[1;31mFailed to start the Kernel. \n",
      "\u001b[1;31mFailed to start the Kernel 'exenv (Python 3.8.5)'. \n",
      "\u001b[1;31mView Jupyter <a href='command:jupyter.viewOutput'>log</a> for further details. No matching bindings found for serviceIdentifier: Symbol(IInterpreterAutoSelectionService)"
     ]
    }
   ],
   "source": [
    "# temp_json.sort(key=lambda item : item['category_target'])\n",
    "# print(temp_json)"
   ]
  },
  {
   "cell_type": "code",
   "execution_count": null,
   "metadata": {},
   "outputs": [
    {
     "ename": "",
     "evalue": "",
     "output_type": "error",
     "traceback": [
      "\u001b[1;31mFailed to start the Kernel. \n",
      "\u001b[1;31mFailed to start the Kernel 'exenv (Python 3.8.5)'. \n",
      "\u001b[1;31mView Jupyter <a href='command:jupyter.viewOutput'>log</a> for further details. No matching bindings found for serviceIdentifier: Symbol(IInterpreterAutoSelectionService)"
     ]
    }
   ],
   "source": [
    "# classes_list = [ item['category'] for item in temp_json]\n",
    "# print(classes_list)"
   ]
  },
  {
   "cell_type": "markdown",
   "metadata": {},
   "source": [
    "### Word2Vec"
   ]
  },
  {
   "cell_type": "code",
   "execution_count": null,
   "metadata": {},
   "outputs": [
    {
     "ename": "",
     "evalue": "",
     "output_type": "error",
     "traceback": [
      "\u001b[1;31mFailed to start the Kernel. \n",
      "\u001b[1;31mFailed to start the Kernel 'exenv (Python 3.8.5)'. \n",
      "\u001b[1;31mView Jupyter <a href='command:jupyter.viewOutput'>log</a> for further details. No matching bindings found for serviceIdentifier: Symbol(IInterpreterAutoSelectionService)"
     ]
    }
   ],
   "source": [
    "w2v_thai = WordVector()"
   ]
  },
  {
   "cell_type": "code",
   "execution_count": null,
   "metadata": {},
   "outputs": [
    {
     "ename": "",
     "evalue": "",
     "output_type": "error",
     "traceback": [
      "\u001b[1;31mFailed to start the Kernel. \n",
      "\u001b[1;31mFailed to start the Kernel 'exenv (Python 3.8.5)'. \n",
      "\u001b[1;31mView Jupyter <a href='command:jupyter.viewOutput'>log</a> for further details. No matching bindings found for serviceIdentifier: Symbol(IInterpreterAutoSelectionService)"
     ]
    }
   ],
   "source": [
    "\n",
    "word2vec = [w2v_thai.sentence_vectorizer(data['message'][i]) \n",
    "            for i in range(0,len(data['message']))]"
   ]
  },
  {
   "cell_type": "code",
   "execution_count": null,
   "metadata": {},
   "outputs": [
    {
     "ename": "",
     "evalue": "",
     "output_type": "error",
     "traceback": [
      "\u001b[1;31mFailed to start the Kernel. \n",
      "\u001b[1;31mFailed to start the Kernel 'exenv (Python 3.8.5)'. \n",
      "\u001b[1;31mView Jupyter <a href='command:jupyter.viewOutput'>log</a> for further details. No matching bindings found for serviceIdentifier: Symbol(IInterpreterAutoSelectionService)"
     ]
    }
   ],
   "source": [
    "X = np.array(word2vec).tolist()\n",
    "\n",
    "data['word2vec'] = X\n"
   ]
  },
  {
   "cell_type": "code",
   "execution_count": null,
   "metadata": {},
   "outputs": [
    {
     "ename": "",
     "evalue": "",
     "output_type": "error",
     "traceback": [
      "\u001b[1;31mFailed to start the Kernel. \n",
      "\u001b[1;31mFailed to start the Kernel 'exenv (Python 3.8.5)'. \n",
      "\u001b[1;31mView Jupyter <a href='command:jupyter.viewOutput'>log</a> for further details. No matching bindings found for serviceIdentifier: Symbol(IInterpreterAutoSelectionService)"
     ]
    }
   ],
   "source": [
    "# reshape\n",
    "data_reshape = np.reshape(X, (-1, 300))"
   ]
  },
  {
   "cell_type": "code",
   "execution_count": null,
   "metadata": {},
   "outputs": [
    {
     "ename": "",
     "evalue": "",
     "output_type": "error",
     "traceback": [
      "\u001b[1;31mFailed to start the Kernel. \n",
      "\u001b[1;31mFailed to start the Kernel 'exenv (Python 3.8.5)'. \n",
      "\u001b[1;31mView Jupyter <a href='command:jupyter.viewOutput'>log</a> for further details. No matching bindings found for serviceIdentifier: Symbol(IInterpreterAutoSelectionService)"
     ]
    }
   ],
   "source": [
    "print(data_reshape.shape)"
   ]
  },
  {
   "cell_type": "code",
   "execution_count": null,
   "metadata": {},
   "outputs": [
    {
     "ename": "",
     "evalue": "",
     "output_type": "error",
     "traceback": [
      "\u001b[1;31mFailed to start the Kernel. \n",
      "\u001b[1;31mFailed to start the Kernel 'exenv (Python 3.8.5)'. \n",
      "\u001b[1;31mView Jupyter <a href='command:jupyter.viewOutput'>log</a> for further details. No matching bindings found for serviceIdentifier: Symbol(IInterpreterAutoSelectionService)"
     ]
    }
   ],
   "source": [
    "data.head()"
   ]
  },
  {
   "cell_type": "markdown",
   "metadata": {},
   "source": [
    "# AI MODEL"
   ]
  },
  {
   "cell_type": "markdown",
   "metadata": {},
   "source": [
    "### Split the data in Training and Testing"
   ]
  },
  {
   "cell_type": "code",
   "execution_count": null,
   "metadata": {},
   "outputs": [
    {
     "ename": "",
     "evalue": "",
     "output_type": "error",
     "traceback": [
      "\u001b[1;31mFailed to start the Kernel. \n",
      "\u001b[1;31mFailed to start the Kernel 'exenv (Python 3.8.5)'. \n",
      "\u001b[1;31mView Jupyter <a href='command:jupyter.viewOutput'>log</a> for further details. No matching bindings found for serviceIdentifier: Symbol(IInterpreterAutoSelectionService)"
     ]
    }
   ],
   "source": [
    "data_temp = [ x for x in data['word2vec']]\n",
    "data_reshape = np.reshape(data_temp, (-1, 300))\n",
    "data_reshape.shape\n"
   ]
  },
  {
   "cell_type": "code",
   "execution_count": null,
   "metadata": {},
   "outputs": [
    {
     "ename": "",
     "evalue": "",
     "output_type": "error",
     "traceback": [
      "\u001b[1;31mFailed to start the Kernel. \n",
      "\u001b[1;31mFailed to start the Kernel 'exenv (Python 3.8.5)'. \n",
      "\u001b[1;31mView Jupyter <a href='command:jupyter.viewOutput'>log</a> for further details. No matching bindings found for serviceIdentifier: Symbol(IInterpreterAutoSelectionService)"
     ]
    }
   ],
   "source": [
    "X_train, X_test, y_train, y_test = train_test_split(data_reshape,\n",
    "                                                    data['category_target'],\n",
    "                                                    random_state=18,\n",
    "                                                    test_size = 0.2,\n",
    "                                                    shuffle=True\n",
    "                                                    )"
   ]
  },
  {
   "cell_type": "code",
   "execution_count": null,
   "metadata": {},
   "outputs": [
    {
     "ename": "",
     "evalue": "",
     "output_type": "error",
     "traceback": [
      "\u001b[1;31mFailed to start the Kernel. \n",
      "\u001b[1;31mFailed to start the Kernel 'exenv (Python 3.8.5)'. \n",
      "\u001b[1;31mView Jupyter <a href='command:jupyter.viewOutput'>log</a> for further details. No matching bindings found for serviceIdentifier: Symbol(IInterpreterAutoSelectionService)"
     ]
    }
   ],
   "source": [
    "print(X_train.shape)\n",
    "print(y_train.shape)"
   ]
  },
  {
   "cell_type": "code",
   "execution_count": null,
   "metadata": {},
   "outputs": [
    {
     "ename": "",
     "evalue": "",
     "output_type": "error",
     "traceback": [
      "\u001b[1;31mFailed to start the Kernel. \n",
      "\u001b[1;31mFailed to start the Kernel 'exenv (Python 3.8.5)'. \n",
      "\u001b[1;31mView Jupyter <a href='command:jupyter.viewOutput'>log</a> for further details. No matching bindings found for serviceIdentifier: Symbol(IInterpreterAutoSelectionService)"
     ]
    }
   ],
   "source": [
    "print(X_test.shape)\n",
    "print(y_test.shape)"
   ]
  },
  {
   "cell_type": "markdown",
   "metadata": {},
   "source": [
    "### Models Predictions"
   ]
  },
  {
   "cell_type": "code",
   "execution_count": null,
   "metadata": {},
   "outputs": [
    {
     "ename": "",
     "evalue": "",
     "output_type": "error",
     "traceback": [
      "\u001b[1;31mFailed to start the Kernel. \n",
      "\u001b[1;31mFailed to start the Kernel 'exenv (Python 3.8.5)'. \n",
      "\u001b[1;31mView Jupyter <a href='command:jupyter.viewOutput'>log</a> for further details. No matching bindings found for serviceIdentifier: Symbol(IInterpreterAutoSelectionService)"
     ]
    }
   ],
   "source": [
    "# RandomForest Model\n",
    "rf_model = RandomForestClassifier(\n",
    "    # n_estimators= 1300,\n",
    "    # max_depth= 180,\n",
    "    # min_samples_split= 2,\n",
    "    # bootstrap= False,\n",
    "    # criterion= 'entropy',\n",
    "    )\n",
    "rf_model.fit(X_train, y_train)\n",
    "\n",
    "accuracy_predictions = rf_model.predict(X_train)\n",
    "print('Validation', accuracy_score(y_train, accuracy_predictions))\n",
    "\n",
    "model_predictions = rf_model.predict(X_test)\n",
    "print('Accuracy', accuracy_score(y_test, model_predictions))\n",
    "\n",
    "print(classification_report(y_test, model_predictions))"
   ]
  },
  {
   "cell_type": "markdown",
   "metadata": {},
   "source": [
    "### Load Saved Model"
   ]
  },
  {
   "cell_type": "code",
   "execution_count": null,
   "metadata": {},
   "outputs": [
    {
     "ename": "",
     "evalue": "",
     "output_type": "error",
     "traceback": [
      "\u001b[1;31mFailed to start the Kernel. \n",
      "\u001b[1;31mFailed to start the Kernel 'exenv (Python 3.8.5)'. \n",
      "\u001b[1;31mView Jupyter <a href='command:jupyter.viewOutput'>log</a> for further details. No matching bindings found for serviceIdentifier: Symbol(IInterpreterAutoSelectionService)"
     ]
    }
   ],
   "source": [
    "# rf_model = load('./models/rf_model.joblib') "
   ]
  },
  {
   "cell_type": "code",
   "execution_count": null,
   "metadata": {},
   "outputs": [
    {
     "ename": "",
     "evalue": "",
     "output_type": "error",
     "traceback": [
      "\u001b[1;31mFailed to start the Kernel. \n",
      "\u001b[1;31mFailed to start the Kernel 'exenv (Python 3.8.5)'. \n",
      "\u001b[1;31mView Jupyter <a href='command:jupyter.viewOutput'>log</a> for further details. No matching bindings found for serviceIdentifier: Symbol(IInterpreterAutoSelectionService)"
     ]
    }
   ],
   "source": [
    "# accuracy_predictions = rf_model.predict(X_train)\n",
    "# print('Validation', accuracy_score(y_train, accuracy_predictions))\n",
    "\n",
    "# model_predictions = rf_model.predict(X_test)\n",
    "# print('Accuracy', accuracy_score(y_test, model_predictions))\n",
    "\n",
    "# print(classification_report(y_test, model_predictions))"
   ]
  },
  {
   "cell_type": "markdown",
   "metadata": {},
   "source": [
    "### Save AI Model"
   ]
  },
  {
   "cell_type": "code",
   "execution_count": null,
   "metadata": {},
   "outputs": [
    {
     "ename": "",
     "evalue": "",
     "output_type": "error",
     "traceback": [
      "\u001b[1;31mFailed to start the Kernel. \n",
      "\u001b[1;31mFailed to start the Kernel 'exenv (Python 3.8.5)'. \n",
      "\u001b[1;31mView Jupyter <a href='command:jupyter.viewOutput'>log</a> for further details. No matching bindings found for serviceIdentifier: Symbol(IInterpreterAutoSelectionService)"
     ]
    }
   ],
   "source": [
    "# dump(rf_model, './models/rf_model.joblib')"
   ]
  },
  {
   "cell_type": "markdown",
   "metadata": {},
   "source": [
    "### BayesSearch Hyperparameter Tunning"
   ]
  },
  {
   "cell_type": "markdown",
   "metadata": {},
   "source": [
    "<!-- Suggest Config RandomForest example\n",
    "{'n_estimators': array([ 100,  307,  514,  721,  928, 1135, 1342, 1550, 1757, 1964, 2171,\n",
    "        2378, 2585, 2792, 3000]),\n",
    " 'max_depth': [1, 5, 10, 20, 50, 75, 100, 150, 200],\n",
    " 'min_samples_split': [1, 2, 5, 10, 15, 20, 30],\n",
    " 'min_samples_leaf': [1, 2, 3, 4],\n",
    " 'bootstrap': [True, False],\n",
    " 'criterion': ['gini', 'entropy']} -->"
   ]
  },
  {
   "cell_type": "code",
   "execution_count": null,
   "metadata": {},
   "outputs": [
    {
     "ename": "",
     "evalue": "",
     "output_type": "error",
     "traceback": [
      "\u001b[1;31mFailed to start the Kernel. \n",
      "\u001b[1;31mFailed to start the Kernel 'exenv (Python 3.8.5)'. \n",
      "\u001b[1;31mView Jupyter <a href='command:jupyter.viewOutput'>log</a> for further details. No matching bindings found for serviceIdentifier: Symbol(IInterpreterAutoSelectionService)"
     ]
    }
   ],
   "source": [
    "# model = RandomForestClassifier(\n",
    "#     # bootstrap=False,\n",
    "#     # criterion='entropy',\n",
    "#     # min_samples_split=2,\n",
    "#     )\n",
    "# opt = BayesSearchCV(\n",
    "#     model,\n",
    "#     {\n",
    "#         'n_estimators': Integer(800, 1500),\n",
    "#         'max_depth': Integer(100, 200),\n",
    "#         'min_samples_split': Integer(2, 30),\n",
    "#         'min_samples_leaf': Integer(1, 10),\n",
    "#         'bootstrap': Categorical(['True', 'False']),\n",
    "#         'criterion': Categorical(['gini', 'entropy']),\n",
    "#     }\n",
    "#     , cv=3\n",
    "#     , verbose=1\n",
    "#     , random_state=0\n",
    "#     , n_iter= 100\n",
    "# )\n",
    "# opt.fit(X_train, y_train)"
   ]
  },
  {
   "cell_type": "code",
   "execution_count": null,
   "metadata": {},
   "outputs": [
    {
     "ename": "",
     "evalue": "",
     "output_type": "error",
     "traceback": [
      "\u001b[1;31mFailed to start the Kernel. \n",
      "\u001b[1;31mFailed to start the Kernel 'exenv (Python 3.8.5)'. \n",
      "\u001b[1;31mView Jupyter <a href='command:jupyter.viewOutput'>log</a> for further details. No matching bindings found for serviceIdentifier: Symbol(IInterpreterAutoSelectionService)"
     ]
    }
   ],
   "source": [
    "# print(opt.best_score_)\n",
    "# print(opt.best_params_)"
   ]
  },
  {
   "cell_type": "code",
   "execution_count": null,
   "metadata": {},
   "outputs": [
    {
     "ename": "",
     "evalue": "",
     "output_type": "error",
     "traceback": [
      "\u001b[1;31mFailed to start the Kernel. \n",
      "\u001b[1;31mFailed to start the Kernel 'exenv (Python 3.8.5)'. \n",
      "\u001b[1;31mView Jupyter <a href='command:jupyter.viewOutput'>log</a> for further details. No matching bindings found for serviceIdentifier: Symbol(IInterpreterAutoSelectionService)"
     ]
    }
   ],
   "source": [
    "# plot_objective(opt.optimizer_results_[0],\n",
    "#                    dimensions=[\n",
    "#                     'bootstrap',\n",
    "#                     'criterion',\n",
    "#                     'max_depth',\n",
    "#                     'min_samples_leaf',\n",
    "#                     'min_samples_split',\n",
    "#                     'n_estimator',\n",
    "#                     # 'random_state',\n",
    "#                     ],\n",
    "#                    n_minimum_search=int(1e8))\n",
    "# plt.show()"
   ]
  },
  {
   "cell_type": "markdown",
   "metadata": {},
   "source": [
    "# Use Case with Modules\n"
   ]
  },
  {
   "cell_type": "code",
   "execution_count": null,
   "metadata": {},
   "outputs": [
    {
     "ename": "",
     "evalue": "",
     "output_type": "error",
     "traceback": [
      "\u001b[1;31mFailed to start the Kernel. \n",
      "\u001b[1;31mFailed to start the Kernel 'exenv (Python 3.8.5)'. \n",
      "\u001b[1;31mView Jupyter <a href='command:jupyter.viewOutput'>log</a> for further details. No matching bindings found for serviceIdentifier: Symbol(IInterpreterAutoSelectionService)"
     ]
    }
   ],
   "source": [
    "from project_module.message_classifier import MessageClassifier"
   ]
  },
  {
   "cell_type": "code",
   "execution_count": null,
   "metadata": {},
   "outputs": [
    {
     "ename": "",
     "evalue": "",
     "output_type": "error",
     "traceback": [
      "\u001b[1;31mFailed to start the Kernel. \n",
      "\u001b[1;31mFailed to start the Kernel 'exenv (Python 3.8.5)'. \n",
      "\u001b[1;31mView Jupyter <a href='command:jupyter.viewOutput'>log</a> for further details. No matching bindings found for serviceIdentifier: Symbol(IInterpreterAutoSelectionService)"
     ]
    }
   ],
   "source": [
    "message_classifier = MessageClassifier(auto_common= False)"
   ]
  },
  {
   "cell_type": "code",
   "execution_count": null,
   "metadata": {},
   "outputs": [
    {
     "ename": "",
     "evalue": "",
     "output_type": "error",
     "traceback": [
      "\u001b[1;31mFailed to start the Kernel. \n",
      "\u001b[1;31mFailed to start the Kernel 'exenv (Python 3.8.5)'. \n",
      "\u001b[1;31mView Jupyter <a href='command:jupyter.viewOutput'>log</a> for further details. No matching bindings found for serviceIdentifier: Symbol(IInterpreterAutoSelectionService)"
     ]
    }
   ],
   "source": [
    "message_classifier.load_model(model_path='./models/rf_model.joblib', json_classes_path='./classes.json')"
   ]
  },
  {
   "cell_type": "code",
   "execution_count": null,
   "metadata": {},
   "outputs": [
    {
     "ename": "",
     "evalue": "",
     "output_type": "error",
     "traceback": [
      "\u001b[1;31mFailed to start the Kernel. \n",
      "\u001b[1;31mFailed to start the Kernel 'exenv (Python 3.8.5)'. \n",
      "\u001b[1;31mView Jupyter <a href='command:jupyter.viewOutput'>log</a> for further details. No matching bindings found for serviceIdentifier: Symbol(IInterpreterAutoSelectionService)"
     ]
    }
   ],
   "source": [
    "print(message_classifier.classify(text_input='ว่ายังไง'))"
   ]
  },
  {
   "cell_type": "markdown",
   "metadata": {},
   "source": [
    "### Analyz Model"
   ]
  },
  {
   "cell_type": "code",
   "execution_count": null,
   "metadata": {},
   "outputs": [
    {
     "ename": "",
     "evalue": "",
     "output_type": "error",
     "traceback": [
      "\u001b[1;31mFailed to start the Kernel. \n",
      "\u001b[1;31mFailed to start the Kernel 'exenv (Python 3.8.5)'. \n",
      "\u001b[1;31mView Jupyter <a href='command:jupyter.viewOutput'>log</a> for further details. No matching bindings found for serviceIdentifier: Symbol(IInterpreterAutoSelectionService)"
     ]
    }
   ],
   "source": [
    "result_data = pd.DataFrame(y_test.reset_index())\n",
    "\n",
    "result_data['message'] = [ data.loc[i]['message'] for i in result_data['index'] ]\n",
    "result_data['predict'] = message_classifier.predict(X_test)\n",
    "result_data['predict_proba'] = [ p for p in message_classifier.predict_proba(X_test) ]\n",
    "result_data['predict_sd'] = message_classifier.predict_sd(X_test)\n",
    "result_data.head()\n"
   ]
  },
  {
   "cell_type": "code",
   "execution_count": null,
   "metadata": {},
   "outputs": [
    {
     "ename": "",
     "evalue": "",
     "output_type": "error",
     "traceback": [
      "\u001b[1;31mFailed to start the Kernel. \n",
      "\u001b[1;31mFailed to start the Kernel 'exenv (Python 3.8.5)'. \n",
      "\u001b[1;31mView Jupyter <a href='command:jupyter.viewOutput'>log</a> for further details. No matching bindings found for serviceIdentifier: Symbol(IInterpreterAutoSelectionService)"
     ]
    }
   ],
   "source": [
    "temp = result_data.drop(result_data.index[ result_data['category_target'] == result_data['predict'] ])\n",
    "temp.head()\n"
   ]
  },
  {
   "cell_type": "code",
   "execution_count": null,
   "metadata": {},
   "outputs": [
    {
     "ename": "",
     "evalue": "",
     "output_type": "error",
     "traceback": [
      "\u001b[1;31mFailed to start the Kernel. \n",
      "\u001b[1;31mFailed to start the Kernel 'exenv (Python 3.8.5)'. \n",
      "\u001b[1;31mView Jupyter <a href='command:jupyter.viewOutput'>log</a> for further details. No matching bindings found for serviceIdentifier: Symbol(IInterpreterAutoSelectionService)"
     ]
    }
   ],
   "source": [
    "mean_error_sd =  temp['predict_sd'].mean()\n",
    "print(f'avg sd of wrong predict: {mean_error_sd}')"
   ]
  },
  {
   "cell_type": "markdown",
   "metadata": {},
   "source": [
    "### Summary Final Result"
   ]
  },
  {
   "cell_type": "markdown",
   "metadata": {},
   "source": [
    "['A', 'C', 'Q', 'S', 'T']"
   ]
  },
  {
   "cell_type": "code",
   "execution_count": null,
   "metadata": {},
   "outputs": [
    {
     "ename": "",
     "evalue": "",
     "output_type": "error",
     "traceback": [
      "\u001b[1;31mFailed to start the Kernel. \n",
      "\u001b[1;31mFailed to start the Kernel 'exenv (Python 3.8.5)'. \n",
      "\u001b[1;31mView Jupyter <a href='command:jupyter.viewOutput'>log</a> for further details. No matching bindings found for serviceIdentifier: Symbol(IInterpreterAutoSelectionService)"
     ]
    }
   ],
   "source": [
    "def count_category(data):\n",
    "    count = [0, 0, 0, 0, 0]\n",
    "    \n",
    "    for y in data:\n",
    "        count[y] += 1\n",
    "    \n",
    "    return count"
   ]
  },
  {
   "cell_type": "code",
   "execution_count": null,
   "metadata": {},
   "outputs": [
    {
     "ename": "",
     "evalue": "",
     "output_type": "error",
     "traceback": [
      "\u001b[1;31mFailed to start the Kernel. \n",
      "\u001b[1;31mFailed to start the Kernel 'exenv (Python 3.8.5)'. \n",
      "\u001b[1;31mView Jupyter <a href='command:jupyter.viewOutput'>log</a> for further details. No matching bindings found for serviceIdentifier: Symbol(IInterpreterAutoSelectionService)"
     ]
    }
   ],
   "source": [
    "y_result =  message_classifier.predict(X_test)\n"
   ]
  },
  {
   "cell_type": "code",
   "execution_count": null,
   "metadata": {},
   "outputs": [
    {
     "ename": "",
     "evalue": "",
     "output_type": "error",
     "traceback": [
      "\u001b[1;31mFailed to start the Kernel. \n",
      "\u001b[1;31mFailed to start the Kernel 'exenv (Python 3.8.5)'. \n",
      "\u001b[1;31mView Jupyter <a href='command:jupyter.viewOutput'>log</a> for further details. No matching bindings found for serviceIdentifier: Symbol(IInterpreterAutoSelectionService)"
     ]
    }
   ],
   "source": [
    "print('Accuracy', accuracy_score(y_test, y_result))\n",
    "\n",
    "print(classification_report(y_test, y_result))"
   ]
  },
  {
   "cell_type": "markdown",
   "metadata": {},
   "source": [
    "### Common Chat Accuracy Test"
   ]
  },
  {
   "cell_type": "code",
   "execution_count": null,
   "metadata": {},
   "outputs": [
    {
     "ename": "",
     "evalue": "",
     "output_type": "error",
     "traceback": [
      "\u001b[1;31mFailed to start the Kernel. \n",
      "\u001b[1;31mFailed to start the Kernel 'exenv (Python 3.8.5)'. \n",
      "\u001b[1;31mView Jupyter <a href='command:jupyter.viewOutput'>log</a> for further details. No matching bindings found for serviceIdentifier: Symbol(IInterpreterAutoSelectionService)"
     ]
    }
   ],
   "source": [
    "# common chat data\n",
    "c_data = data.loc[data.index[ data['category'] == 'C' ]]\n",
    "c_data.head()"
   ]
  },
  {
   "cell_type": "code",
   "execution_count": null,
   "metadata": {},
   "outputs": [
    {
     "ename": "",
     "evalue": "",
     "output_type": "error",
     "traceback": [
      "\u001b[1;31mFailed to start the Kernel. \n",
      "\u001b[1;31mFailed to start the Kernel 'exenv (Python 3.8.5)'. \n",
      "\u001b[1;31mView Jupyter <a href='command:jupyter.viewOutput'>log</a> for further details. No matching bindings found for serviceIdentifier: Symbol(IInterpreterAutoSelectionService)"
     ]
    }
   ],
   "source": [
    "X_temp = c_data['word2vec'].reset_index()\n",
    "X_temp.head()"
   ]
  },
  {
   "cell_type": "markdown",
   "metadata": {},
   "source": [
    "### Auto common category Test"
   ]
  },
  {
   "cell_type": "code",
   "execution_count": null,
   "metadata": {},
   "outputs": [
    {
     "ename": "",
     "evalue": "",
     "output_type": "error",
     "traceback": [
      "\u001b[1;31mFailed to start the Kernel. \n",
      "\u001b[1;31mFailed to start the Kernel 'exenv (Python 3.8.5)'. \n",
      "\u001b[1;31mView Jupyter <a href='command:jupyter.viewOutput'>log</a> for further details. No matching bindings found for serviceIdentifier: Symbol(IInterpreterAutoSelectionService)"
     ]
    }
   ],
   "source": [
    "#auto common \n",
    "y_temp1 = [ message_classifier.predict(x)[0] for x in X_temp['word2vec'] ]\n",
    "print(f'Common Accuracy: {y_temp1.count(1)/len(y_temp1)}')"
   ]
  },
  {
   "cell_type": "code",
   "execution_count": null,
   "metadata": {},
   "outputs": [
    {
     "ename": "",
     "evalue": "",
     "output_type": "error",
     "traceback": [
      "\u001b[1;31mFailed to start the Kernel. \n",
      "\u001b[1;31mFailed to start the Kernel 'exenv (Python 3.8.5)'. \n",
      "\u001b[1;31mView Jupyter <a href='command:jupyter.viewOutput'>log</a> for further details. No matching bindings found for serviceIdentifier: Symbol(IInterpreterAutoSelectionService)"
     ]
    }
   ],
   "source": [
    "# none auto common model\n",
    "custom_message_classifier = MessageClassifier(auto_common= False)\n",
    "custom_message_classifier.load_model(model_path='./models/rf_model.joblib', json_classes_path='./classes.json')\n",
    "\n",
    "y_temp2 = [ custom_message_classifier.predict(x)[0] for x in X_temp['word2vec'] ]\n",
    "print(f'Common Accuracy: {y_temp2.count(1)/len(y_temp2)}')"
   ]
  },
  {
   "cell_type": "code",
   "execution_count": null,
   "metadata": {},
   "outputs": [
    {
     "ename": "",
     "evalue": "",
     "output_type": "error",
     "traceback": [
      "\u001b[1;31mFailed to start the Kernel. \n",
      "\u001b[1;31mFailed to start the Kernel 'exenv (Python 3.8.5)'. \n",
      "\u001b[1;31mView Jupyter <a href='command:jupyter.viewOutput'>log</a> for further details. No matching bindings found for serviceIdentifier: Symbol(IInterpreterAutoSelectionService)"
     ]
    }
   ],
   "source": [
    "for i in range(30, 80):\n",
    "    # tunning model\n",
    "    error_sd = 0.001 * i\n",
    "    custom_message_classifier = MessageClassifier(error_sd= error_sd)\n",
    "    custom_message_classifier.load_model(model_path='./models/rf_model.joblib', json_classes_path='./classes.json')\n",
    "\n",
    "    y_temp2 = custom_message_classifier.predict(X_test)\n",
    "    print(f'SD: {round(error_sd, 3)} | Accuracy: {accuracy_score(y_test, y_temp2)}')\n",
    "    # print('Accuracy', accuracy_score(y_test, y_temp2))\n",
    "    # print(classification_report(y_test, y_temp2))"
   ]
  }
 ],
 "metadata": {
  "kernelspec": {
   "display_name": "Python 3.8.5 ('exenv': venv)",
   "language": "python",
   "name": "python3"
  },
  "language_info": {
   "codemirror_mode": {
    "name": "ipython",
    "version": 3
   },
   "file_extension": ".py",
   "mimetype": "text/x-python",
   "name": "python",
   "nbconvert_exporter": "python",
   "pygments_lexer": "ipython3",
   "version": "3.8.5"
  },
  "orig_nbformat": 4,
  "vscode": {
   "interpreter": {
    "hash": "d8e4a78b937a3ac7834a977c99d86d4585a7e3d43b43b35443d49476bbdeb382"
   }
  }
 },
 "nbformat": 4,
 "nbformat_minor": 2
}
