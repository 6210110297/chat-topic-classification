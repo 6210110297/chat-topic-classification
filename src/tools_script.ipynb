{
 "cells": [
  {
   "cell_type": "code",
   "execution_count": 3,
   "metadata": {},
   "outputs": [],
   "source": [
    "from project_module.message_classifier import MessageClassifier\n",
    "from project_module.message_data_converter import MessageDataConverter\n",
    "from project_module.message_process import MessageProcess"
   ]
  },
  {
   "cell_type": "markdown",
   "metadata": {},
   "source": [
    "# Chat Decode"
   ]
  },
  {
   "cell_type": "code",
   "execution_count": 5,
   "metadata": {},
   "outputs": [
    {
     "name": "stdout",
     "output_type": "stream",
     "text": [
      "['ครับ', 'ผมรชานนท์ คงชาย ครับ', 'สวัสดีครับ เมื่อกี้มีพี่โทรมาจากcomcampสอบถามเรื่องเวลาว่าวันที่14 สะดวกไหม พอดีว่าติดกิจกรรมที่โรงเรียนช่วงนั้นพอดี ไม่ค่อยสะดวกสักเท่าไหร่ครับ']\n"
     ]
    }
   ],
   "source": [
    "chat_name = 'comcamp29_tzrvmz4fza'\n",
    "file = f'data/inbox/{chat_name}/message_1.json'\n",
    "converter = MessageDataConverter()\n",
    "\n",
    "converter.import_json(path= file)\n",
    "\n",
    "converter.print_message_list()"
   ]
  },
  {
   "cell_type": "markdown",
   "metadata": {},
   "source": [
    "# Convert ALL JSON To CSV"
   ]
  },
  {
   "cell_type": "code",
   "execution_count": 6,
   "metadata": {},
   "outputs": [],
   "source": [
    "\n",
    "converter = MessageDataConverter()\n",
    "\n",
    "converter.convert_many(json_path= './data/_json/', csv_path= './data/_csv/')"
   ]
  },
  {
   "cell_type": "markdown",
   "metadata": {},
   "source": [
    "# Merge All CSV File"
   ]
  },
  {
   "cell_type": "code",
   "execution_count": 2,
   "metadata": {},
   "outputs": [],
   "source": [
    "converter = MessageDataConverter()\n",
    "\n",
    "converter.merge_many_csv(src_path='./data/', des_path='./data/')"
   ]
  },
  {
   "cell_type": "markdown",
   "metadata": {},
   "source": [
    "# Clean CSV File"
   ]
  },
  {
   "cell_type": "code",
   "execution_count": 5,
   "metadata": {},
   "outputs": [],
   "source": [
    "converter = MessageDataConverter()\n",
    "\n",
    "converter.clean_csv(path='./data/data1671694184.csv')"
   ]
  },
  {
   "attachments": {},
   "cell_type": "markdown",
   "metadata": {},
   "source": [
    "# Auto PreLabel"
   ]
  },
  {
   "cell_type": "code",
   "execution_count": 4,
   "metadata": {},
   "outputs": [],
   "source": [
    "message_classifier = MessageClassifier()\n",
    "message_classifier.load_model(\n",
    "    model_path='./models/mlp_model.joblib',\n",
    "    json_classes_path='./classes.json',\n",
    ")"
   ]
  },
  {
   "cell_type": "code",
   "execution_count": 6,
   "metadata": {},
   "outputs": [],
   "source": [
    "message_data_converter = MessageProcess()\n",
    "message_data_converter.prelabel_csv('./data/csv/cintania53_message_2.csv', prelabel_model= message_classifier)"
   ]
  }
 ],
 "metadata": {
  "kernelspec": {
   "display_name": "venv",
   "language": "python",
   "name": "python3"
  },
  "language_info": {
   "codemirror_mode": {
    "name": "ipython",
    "version": 3
   },
   "file_extension": ".py",
   "mimetype": "text/x-python",
   "name": "python",
   "nbconvert_exporter": "python",
   "pygments_lexer": "ipython3",
   "version": "3.10.10"
  },
  "orig_nbformat": 4,
  "vscode": {
   "interpreter": {
    "hash": "fc00dbedb30c14cd2154db25d8933b38548d2caecc83f34fe8c69cbbbd180ae7"
   }
  }
 },
 "nbformat": 4,
 "nbformat_minor": 2
}
