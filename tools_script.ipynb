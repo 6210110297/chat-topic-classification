{
 "cells": [
  {
   "cell_type": "code",
   "execution_count": 1,
   "metadata": {},
   "outputs": [],
   "source": [
    "import sys\n",
    "\n",
    "from project_module.message_data_converter import MessageDataConverter"
   ]
  },
  {
   "cell_type": "markdown",
   "metadata": {},
   "source": [
    "# Chat Decode"
   ]
  },
  {
   "cell_type": "code",
   "execution_count": 47,
   "metadata": {},
   "outputs": [
    {
     "name": "stdout",
     "output_type": "stream",
     "text": [
      "['ครับพี่', 'ยินดีที่ได้รู้จักนะพี่ชื่อโดนัท เครื่องกล ปี 2', 'ขออนุญาตทำความรู้จักรุ่นพี่ครับ สวัสดีครับ ผมชื่อ นาย รชานนท์ นามสกุล คงชาย รหัสนักศึกษา 6210110297 อยู่ภาควิชา วิศวกรรมศาสตร์คอมพิวเตอร์ ชื่อเล่น ท๊อป กรุ๊ป C ครับ\\nเป็นสายเทคของ ปี2พี่ต้น ปี3พี่โอม ปี4พี่หมัด ครับ']\n"
     ]
    }
   ],
   "source": [
    "chat_name = 'claylm_5ghfybwsvq'\n",
    "file = f'data/inbox/{chat_name}/message_1.json'\n",
    "converter = MessageDataConverter()\n",
    "\n",
    "converter.import_json(path= file)\n",
    "\n",
    "converter.print_message_list()"
   ]
  },
  {
   "cell_type": "markdown",
   "metadata": {},
   "source": [
    "# Convert ALL JSON To CSV"
   ]
  },
  {
   "cell_type": "code",
   "execution_count": 26,
   "metadata": {},
   "outputs": [],
   "source": [
    "\n",
    "converter = MessageDataConverter()\n",
    "\n",
    "converter.convert_many(json_path= './data/_json/', csv_path= './data/_csv/')"
   ]
  },
  {
   "cell_type": "markdown",
   "metadata": {},
   "source": [
    "# Merge All CSV File"
   ]
  },
  {
   "cell_type": "code",
   "execution_count": 28,
   "metadata": {},
   "outputs": [],
   "source": [
    "converter = MessageDataConverter()\n",
    "\n",
    "converter.merge_many_csv(src_path='./data/', des_path='./data/')"
   ]
  }
 ],
 "metadata": {
  "kernelspec": {
   "display_name": "Python 3.8.5 ('exenv': venv)",
   "language": "python",
   "name": "python3"
  },
  "language_info": {
   "codemirror_mode": {
    "name": "ipython",
    "version": 3
   },
   "file_extension": ".py",
   "mimetype": "text/x-python",
   "name": "python",
   "nbconvert_exporter": "python",
   "pygments_lexer": "ipython3",
   "version": "3.8.5"
  },
  "orig_nbformat": 4,
  "vscode": {
   "interpreter": {
    "hash": "d8e4a78b937a3ac7834a977c99d86d4585a7e3d43b43b35443d49476bbdeb382"
   }
  }
 },
 "nbformat": 4,
 "nbformat_minor": 2
}
